{
 "cells": [
  {
   "cell_type": "code",
   "execution_count": 1,
   "metadata": {},
   "outputs": [
    {
     "name": "stdout",
     "output_type": "stream",
     "text": [
      "Index(['publisher', 'genres', 'app_name', 'title', 'url', 'release_date',\n",
      "       'tags', 'reviews_url', 'specs', 'price', 'early_access', 'id',\n",
      "       'developer'],\n",
      "      dtype='object')\n"
     ]
    }
   ],
   "source": [
    "import pandas as pd\n",
    "\n",
    "# Usar una de las tres formas para especificar la ruta del archivo\n",
    "archivo_json = 'C:/Users/Admin/Downloads/Primer Proyecto/DS/steam_games.json.gz'\n",
    "\n",
    "# Leer el archivo JSON y convertirlo en un DataFrame\n",
    "df = pd.read_json(archivo_json, compression='gzip', lines=True)\n",
    "\n",
    "# Eliminar filas que tienen todos sus campos vacíos\n",
    "df = df.dropna(how='all')\n",
    "\n",
    "# Mostrar las primeras filas del DataFrame\n",
    "print(df.columns)\n"
   ]
  },
  {
   "cell_type": "code",
   "execution_count": 2,
   "metadata": {},
   "outputs": [
    {
     "data": {
      "text/html": [
       "<div>\n",
       "<style scoped>\n",
       "    .dataframe tbody tr th:only-of-type {\n",
       "        vertical-align: middle;\n",
       "    }\n",
       "\n",
       "    .dataframe tbody tr th {\n",
       "        vertical-align: top;\n",
       "    }\n",
       "\n",
       "    .dataframe thead th {\n",
       "        text-align: right;\n",
       "    }\n",
       "</style>\n",
       "<table border=\"1\" class=\"dataframe\">\n",
       "  <thead>\n",
       "    <tr style=\"text-align: right;\">\n",
       "      <th></th>\n",
       "      <th>publisher</th>\n",
       "      <th>genres</th>\n",
       "      <th>app_name</th>\n",
       "      <th>title</th>\n",
       "      <th>tags</th>\n",
       "      <th>specs</th>\n",
       "      <th>developer</th>\n",
       "    </tr>\n",
       "  </thead>\n",
       "  <tbody>\n",
       "    <tr>\n",
       "      <th>88310</th>\n",
       "      <td>Kotoshiro</td>\n",
       "      <td>[Action, Casual, Indie, Simulation, Strategy]</td>\n",
       "      <td>Lost Summoner Kitty</td>\n",
       "      <td>Lost Summoner Kitty</td>\n",
       "      <td>[Strategy, Action, Indie, Casual, Simulation]</td>\n",
       "      <td>[Single-player]</td>\n",
       "      <td>Kotoshiro</td>\n",
       "    </tr>\n",
       "    <tr>\n",
       "      <th>88311</th>\n",
       "      <td>Making Fun, Inc.</td>\n",
       "      <td>[Free to Play, Indie, RPG, Strategy]</td>\n",
       "      <td>Ironbound</td>\n",
       "      <td>Ironbound</td>\n",
       "      <td>[Free to Play, Strategy, Indie, RPG, Card Game...</td>\n",
       "      <td>[Single-player, Multi-player, Online Multi-Pla...</td>\n",
       "      <td>Secret Level SRL</td>\n",
       "    </tr>\n",
       "    <tr>\n",
       "      <th>88312</th>\n",
       "      <td>Poolians.com</td>\n",
       "      <td>[Casual, Free to Play, Indie, Simulation, Sports]</td>\n",
       "      <td>Real Pool 3D - Poolians</td>\n",
       "      <td>Real Pool 3D - Poolians</td>\n",
       "      <td>[Free to Play, Simulation, Sports, Casual, Ind...</td>\n",
       "      <td>[Single-player, Multi-player, Online Multi-Pla...</td>\n",
       "      <td>Poolians.com</td>\n",
       "    </tr>\n",
       "    <tr>\n",
       "      <th>88313</th>\n",
       "      <td>彼岸领域</td>\n",
       "      <td>[Action, Adventure, Casual]</td>\n",
       "      <td>弹炸人2222</td>\n",
       "      <td>弹炸人2222</td>\n",
       "      <td>[Action, Adventure, Casual]</td>\n",
       "      <td>[Single-player]</td>\n",
       "      <td>彼岸领域</td>\n",
       "    </tr>\n",
       "    <tr>\n",
       "      <th>88314</th>\n",
       "      <td>None</td>\n",
       "      <td>None</td>\n",
       "      <td>Log Challenge</td>\n",
       "      <td>None</td>\n",
       "      <td>[Action, Indie, Casual, Sports]</td>\n",
       "      <td>[Single-player, Full controller support, HTC V...</td>\n",
       "      <td>None</td>\n",
       "    </tr>\n",
       "    <tr>\n",
       "      <th>...</th>\n",
       "      <td>...</td>\n",
       "      <td>...</td>\n",
       "      <td>...</td>\n",
       "      <td>...</td>\n",
       "      <td>...</td>\n",
       "      <td>...</td>\n",
       "      <td>...</td>\n",
       "    </tr>\n",
       "    <tr>\n",
       "      <th>120440</th>\n",
       "      <td>Ghost_RUS Games</td>\n",
       "      <td>[Casual, Indie, Simulation, Strategy]</td>\n",
       "      <td>Colony On Mars</td>\n",
       "      <td>Colony On Mars</td>\n",
       "      <td>[Strategy, Indie, Casual, Simulation]</td>\n",
       "      <td>[Single-player, Steam Achievements]</td>\n",
       "      <td>Nikita \"Ghost_RUS\"</td>\n",
       "    </tr>\n",
       "    <tr>\n",
       "      <th>120441</th>\n",
       "      <td>Sacada</td>\n",
       "      <td>[Casual, Indie, Strategy]</td>\n",
       "      <td>LOGistICAL: South Africa</td>\n",
       "      <td>LOGistICAL: South Africa</td>\n",
       "      <td>[Strategy, Indie, Casual]</td>\n",
       "      <td>[Single-player, Steam Achievements, Steam Clou...</td>\n",
       "      <td>Sacada</td>\n",
       "    </tr>\n",
       "    <tr>\n",
       "      <th>120442</th>\n",
       "      <td>Laush Studio</td>\n",
       "      <td>[Indie, Racing, Simulation]</td>\n",
       "      <td>Russian Roads</td>\n",
       "      <td>Russian Roads</td>\n",
       "      <td>[Indie, Simulation, Racing]</td>\n",
       "      <td>[Single-player, Steam Achievements, Steam Trad...</td>\n",
       "      <td>Laush Dmitriy Sergeevich</td>\n",
       "    </tr>\n",
       "    <tr>\n",
       "      <th>120443</th>\n",
       "      <td>SIXNAILS</td>\n",
       "      <td>[Casual, Indie]</td>\n",
       "      <td>EXIT 2 - Directions</td>\n",
       "      <td>EXIT 2 - Directions</td>\n",
       "      <td>[Indie, Casual, Puzzle, Singleplayer, Atmosphe...</td>\n",
       "      <td>[Single-player, Steam Achievements, Steam Cloud]</td>\n",
       "      <td>xropi,stev3ns</td>\n",
       "    </tr>\n",
       "    <tr>\n",
       "      <th>120444</th>\n",
       "      <td>None</td>\n",
       "      <td>None</td>\n",
       "      <td>Maze Run VR</td>\n",
       "      <td>None</td>\n",
       "      <td>[Early Access, Adventure, Indie, Action, Simul...</td>\n",
       "      <td>[Single-player, Stats, Steam Leaderboards, HTC...</td>\n",
       "      <td>None</td>\n",
       "    </tr>\n",
       "  </tbody>\n",
       "</table>\n",
       "<p>32135 rows × 7 columns</p>\n",
       "</div>"
      ],
      "text/plain": [
       "               publisher                                             genres  \\\n",
       "88310          Kotoshiro      [Action, Casual, Indie, Simulation, Strategy]   \n",
       "88311   Making Fun, Inc.               [Free to Play, Indie, RPG, Strategy]   \n",
       "88312       Poolians.com  [Casual, Free to Play, Indie, Simulation, Sports]   \n",
       "88313               彼岸领域                        [Action, Adventure, Casual]   \n",
       "88314               None                                               None   \n",
       "...                  ...                                                ...   \n",
       "120440   Ghost_RUS Games              [Casual, Indie, Simulation, Strategy]   \n",
       "120441            Sacada                          [Casual, Indie, Strategy]   \n",
       "120442      Laush Studio                        [Indie, Racing, Simulation]   \n",
       "120443          SIXNAILS                                    [Casual, Indie]   \n",
       "120444              None                                               None   \n",
       "\n",
       "                        app_name                     title  \\\n",
       "88310        Lost Summoner Kitty       Lost Summoner Kitty   \n",
       "88311                  Ironbound                 Ironbound   \n",
       "88312    Real Pool 3D - Poolians   Real Pool 3D - Poolians   \n",
       "88313                    弹炸人2222                   弹炸人2222   \n",
       "88314              Log Challenge                      None   \n",
       "...                          ...                       ...   \n",
       "120440            Colony On Mars            Colony On Mars   \n",
       "120441  LOGistICAL: South Africa  LOGistICAL: South Africa   \n",
       "120442             Russian Roads             Russian Roads   \n",
       "120443       EXIT 2 - Directions       EXIT 2 - Directions   \n",
       "120444               Maze Run VR                      None   \n",
       "\n",
       "                                                     tags  \\\n",
       "88310       [Strategy, Action, Indie, Casual, Simulation]   \n",
       "88311   [Free to Play, Strategy, Indie, RPG, Card Game...   \n",
       "88312   [Free to Play, Simulation, Sports, Casual, Ind...   \n",
       "88313                         [Action, Adventure, Casual]   \n",
       "88314                     [Action, Indie, Casual, Sports]   \n",
       "...                                                   ...   \n",
       "120440              [Strategy, Indie, Casual, Simulation]   \n",
       "120441                          [Strategy, Indie, Casual]   \n",
       "120442                        [Indie, Simulation, Racing]   \n",
       "120443  [Indie, Casual, Puzzle, Singleplayer, Atmosphe...   \n",
       "120444  [Early Access, Adventure, Indie, Action, Simul...   \n",
       "\n",
       "                                                    specs  \\\n",
       "88310                                     [Single-player]   \n",
       "88311   [Single-player, Multi-player, Online Multi-Pla...   \n",
       "88312   [Single-player, Multi-player, Online Multi-Pla...   \n",
       "88313                                     [Single-player]   \n",
       "88314   [Single-player, Full controller support, HTC V...   \n",
       "...                                                   ...   \n",
       "120440                [Single-player, Steam Achievements]   \n",
       "120441  [Single-player, Steam Achievements, Steam Clou...   \n",
       "120442  [Single-player, Steam Achievements, Steam Trad...   \n",
       "120443   [Single-player, Steam Achievements, Steam Cloud]   \n",
       "120444  [Single-player, Stats, Steam Leaderboards, HTC...   \n",
       "\n",
       "                       developer  \n",
       "88310                  Kotoshiro  \n",
       "88311           Secret Level SRL  \n",
       "88312               Poolians.com  \n",
       "88313                       彼岸领域  \n",
       "88314                       None  \n",
       "...                          ...  \n",
       "120440        Nikita \"Ghost_RUS\"  \n",
       "120441                    Sacada  \n",
       "120442  Laush Dmitriy Sergeevich  \n",
       "120443             xropi,stev3ns  \n",
       "120444                      None  \n",
       "\n",
       "[32135 rows x 7 columns]"
      ]
     },
     "execution_count": 2,
     "metadata": {},
     "output_type": "execute_result"
    }
   ],
   "source": [
    "# Descartar columnas innecesarias \n",
    "columnas_deseadas = ['publisher', 'genres', 'app_name', 'title','tags', 'specs' ,'developer']\n",
    "df_reducido = df[columnas_deseadas] \n",
    "df_reducido"
   ]
  },
  {
   "cell_type": "code",
   "execution_count": 3,
   "metadata": {},
   "outputs": [],
   "source": [
    "import pandas as pd\n",
    "import gzip\n",
    "import json\n",
    "import re\n",
    "\n",
    "with gzip.open(r'C:/Users/Admin/Downloads/Primer Proyecto/DS/steam_games.json.gz', 'rb') as g:\n",
    "    # Usa un lector de línea para leer el archivo línea por línea\n",
    "    reader = g.readlines()\n",
    "\n",
    "# Se lee de cada línea del dataset\n",
    "filas_games = []\n",
    "for line in reader:\n",
    "    # Decodifica la línea como JSON\n",
    "    data = json.loads(line.decode('utf-8'))\n",
    "    # Agrega la línea al dataframe\n",
    "    filas_games.append(data)\n",
    "\n",
    "# Se convierte en dataframe\n",
    "df_g = pd.DataFrame(filas_games)\n",
    "\n"
   ]
  },
  {
   "cell_type": "code",
   "execution_count": 4,
   "metadata": {},
   "outputs": [
    {
     "data": {
      "text/plain": [
       "(32135, 13)"
      ]
     },
     "execution_count": 4,
     "metadata": {},
     "output_type": "execute_result"
    }
   ],
   "source": [
    "#Eliminamos las filas que contienen todos sus campos vacios\n",
    "df_g = df_g.dropna(how='all').reset_index(drop=True)\n",
    "df_g.shape"
   ]
  },
  {
   "cell_type": "code",
   "execution_count": 5,
   "metadata": {},
   "outputs": [
    {
     "data": {
      "text/plain": [
       "publisher       8052\n",
       "genres          3283\n",
       "app_name           2\n",
       "title           2050\n",
       "url                0\n",
       "release_date    2067\n",
       "tags             163\n",
       "reviews_url        2\n",
       "specs            670\n",
       "price           1377\n",
       "early_access       0\n",
       "id                 2\n",
       "developer       3299\n",
       "dtype: int64"
      ]
     },
     "execution_count": 5,
     "metadata": {},
     "output_type": "execute_result"
    }
   ],
   "source": [
    "#Ver valores nulos por columna\n",
    "df_g.isna().sum()"
   ]
  },
  {
   "cell_type": "code",
   "execution_count": 6,
   "metadata": {},
   "outputs": [
    {
     "data": {
      "text/html": [
       "<div>\n",
       "<style scoped>\n",
       "    .dataframe tbody tr th:only-of-type {\n",
       "        vertical-align: middle;\n",
       "    }\n",
       "\n",
       "    .dataframe tbody tr th {\n",
       "        vertical-align: top;\n",
       "    }\n",
       "\n",
       "    .dataframe thead th {\n",
       "        text-align: right;\n",
       "    }\n",
       "</style>\n",
       "<table border=\"1\" class=\"dataframe\">\n",
       "  <thead>\n",
       "    <tr style=\"text-align: right;\">\n",
       "      <th></th>\n",
       "      <th>publisher</th>\n",
       "      <th>genres</th>\n",
       "      <th>app_name</th>\n",
       "      <th>title</th>\n",
       "      <th>url</th>\n",
       "      <th>release_date</th>\n",
       "      <th>tags</th>\n",
       "      <th>reviews_url</th>\n",
       "      <th>specs</th>\n",
       "      <th>price</th>\n",
       "      <th>early_access</th>\n",
       "      <th>id</th>\n",
       "      <th>developer</th>\n",
       "    </tr>\n",
       "  </thead>\n",
       "  <tbody>\n",
       "    <tr>\n",
       "      <th>74</th>\n",
       "      <td>NaN</td>\n",
       "      <td>NaN</td>\n",
       "      <td>NaN</td>\n",
       "      <td>NaN</td>\n",
       "      <td>http://store.steampowered.com/</td>\n",
       "      <td>NaN</td>\n",
       "      <td>NaN</td>\n",
       "      <td>NaN</td>\n",
       "      <td>NaN</td>\n",
       "      <td>19.99</td>\n",
       "      <td>False</td>\n",
       "      <td>NaN</td>\n",
       "      <td>NaN</td>\n",
       "    </tr>\n",
       "    <tr>\n",
       "      <th>13894</th>\n",
       "      <td>Bethesda Softworks</td>\n",
       "      <td>[Action]</td>\n",
       "      <td>Wolfenstein II: The New Colossus</td>\n",
       "      <td>Wolfenstein II: The New Colossus</td>\n",
       "      <td>http://store.steampowered.com/app/612880/</td>\n",
       "      <td>2017-10-26</td>\n",
       "      <td>[Action, FPS, Gore, Violent, Alternate History...</td>\n",
       "      <td>http://steamcommunity.com/app/612880/reviews/?...</td>\n",
       "      <td>[Single-player, Steam Achievements, Full contr...</td>\n",
       "      <td>59.99</td>\n",
       "      <td>False</td>\n",
       "      <td>612880</td>\n",
       "      <td>Machine Games</td>\n",
       "    </tr>\n",
       "    <tr>\n",
       "      <th>14573</th>\n",
       "      <td>Bethesda Softworks</td>\n",
       "      <td>[Action]</td>\n",
       "      <td>Wolfenstein II: The New Colossus</td>\n",
       "      <td>Wolfenstein II: The New Colossus</td>\n",
       "      <td>http://store.steampowered.com/app/612880/Wolfe...</td>\n",
       "      <td>2017-10-26</td>\n",
       "      <td>[Action, FPS, Gore, Violent, Alternate History...</td>\n",
       "      <td>http://steamcommunity.com/app/612880/reviews/?...</td>\n",
       "      <td>[Single-player, Steam Achievements, Full contr...</td>\n",
       "      <td>59.99</td>\n",
       "      <td>False</td>\n",
       "      <td>612880</td>\n",
       "      <td>Machine Games</td>\n",
       "    </tr>\n",
       "    <tr>\n",
       "      <th>30961</th>\n",
       "      <td>Warner Bros. Interactive Entertainment, Feral ...</td>\n",
       "      <td>[Action, Adventure]</td>\n",
       "      <td>Batman: Arkham City - Game of the Year Edition</td>\n",
       "      <td>Batman: Arkham City - Game of the Year Edition</td>\n",
       "      <td>http://store.steampowered.com/app/200260</td>\n",
       "      <td>2012-09-07</td>\n",
       "      <td>[Action, Open World, Batman, Adventure, Stealt...</td>\n",
       "      <td>NaN</td>\n",
       "      <td>[Single-player, Steam Achievements, Steam Trad...</td>\n",
       "      <td>19.99</td>\n",
       "      <td>False</td>\n",
       "      <td>NaN</td>\n",
       "      <td>Rocksteady Studios,Feral Interactive (Mac)</td>\n",
       "    </tr>\n",
       "  </tbody>\n",
       "</table>\n",
       "</div>"
      ],
      "text/plain": [
       "                                               publisher               genres  \\\n",
       "74                                                   NaN                  NaN   \n",
       "13894                                 Bethesda Softworks             [Action]   \n",
       "14573                                 Bethesda Softworks             [Action]   \n",
       "30961  Warner Bros. Interactive Entertainment, Feral ...  [Action, Adventure]   \n",
       "\n",
       "                                             app_name  \\\n",
       "74                                                NaN   \n",
       "13894                Wolfenstein II: The New Colossus   \n",
       "14573                Wolfenstein II: The New Colossus   \n",
       "30961  Batman: Arkham City - Game of the Year Edition   \n",
       "\n",
       "                                                title  \\\n",
       "74                                                NaN   \n",
       "13894                Wolfenstein II: The New Colossus   \n",
       "14573                Wolfenstein II: The New Colossus   \n",
       "30961  Batman: Arkham City - Game of the Year Edition   \n",
       "\n",
       "                                                     url release_date  \\\n",
       "74                        http://store.steampowered.com/          NaN   \n",
       "13894          http://store.steampowered.com/app/612880/   2017-10-26   \n",
       "14573  http://store.steampowered.com/app/612880/Wolfe...   2017-10-26   \n",
       "30961           http://store.steampowered.com/app/200260   2012-09-07   \n",
       "\n",
       "                                                    tags  \\\n",
       "74                                                   NaN   \n",
       "13894  [Action, FPS, Gore, Violent, Alternate History...   \n",
       "14573  [Action, FPS, Gore, Violent, Alternate History...   \n",
       "30961  [Action, Open World, Batman, Adventure, Stealt...   \n",
       "\n",
       "                                             reviews_url  \\\n",
       "74                                                   NaN   \n",
       "13894  http://steamcommunity.com/app/612880/reviews/?...   \n",
       "14573  http://steamcommunity.com/app/612880/reviews/?...   \n",
       "30961                                                NaN   \n",
       "\n",
       "                                                   specs  price early_access  \\\n",
       "74                                                   NaN  19.99        False   \n",
       "13894  [Single-player, Steam Achievements, Full contr...  59.99        False   \n",
       "14573  [Single-player, Steam Achievements, Full contr...  59.99        False   \n",
       "30961  [Single-player, Steam Achievements, Steam Trad...  19.99        False   \n",
       "\n",
       "           id                                   developer  \n",
       "74        NaN                                         NaN  \n",
       "13894  612880                               Machine Games  \n",
       "14573  612880                               Machine Games  \n",
       "30961     NaN  Rocksteady Studios,Feral Interactive (Mac)  "
      ]
     },
     "execution_count": 6,
     "metadata": {},
     "output_type": "execute_result"
    }
   ],
   "source": [
    "#En caso de existir filas duplicadas las eliminamos\n",
    "filas_duplicadas = df_g[df_g.duplicated(subset=\"id\", keep=False)]\n",
    "filas_duplicadas"
   ]
  },
  {
   "cell_type": "code",
   "execution_count": 7,
   "metadata": {},
   "outputs": [
    {
     "data": {
      "text/html": [
       "<div>\n",
       "<style scoped>\n",
       "    .dataframe tbody tr th:only-of-type {\n",
       "        vertical-align: middle;\n",
       "    }\n",
       "\n",
       "    .dataframe tbody tr th {\n",
       "        vertical-align: top;\n",
       "    }\n",
       "\n",
       "    .dataframe thead th {\n",
       "        text-align: right;\n",
       "    }\n",
       "</style>\n",
       "<table border=\"1\" class=\"dataframe\">\n",
       "  <thead>\n",
       "    <tr style=\"text-align: right;\">\n",
       "      <th></th>\n",
       "      <th>publisher</th>\n",
       "      <th>genres</th>\n",
       "      <th>app_name</th>\n",
       "      <th>title</th>\n",
       "      <th>url</th>\n",
       "      <th>release_date</th>\n",
       "      <th>tags</th>\n",
       "      <th>reviews_url</th>\n",
       "      <th>specs</th>\n",
       "      <th>price</th>\n",
       "      <th>early_access</th>\n",
       "      <th>id</th>\n",
       "      <th>developer</th>\n",
       "    </tr>\n",
       "  </thead>\n",
       "  <tbody>\n",
       "  </tbody>\n",
       "</table>\n",
       "</div>"
      ],
      "text/plain": [
       "Empty DataFrame\n",
       "Columns: [publisher, genres, app_name, title, url, release_date, tags, reviews_url, specs, price, early_access, id, developer]\n",
       "Index: []"
      ]
     },
     "execution_count": 7,
     "metadata": {},
     "output_type": "execute_result"
    }
   ],
   "source": [
    "#Filtramos por el campo developer\n",
    "df_g[df_g['developer']=='Rocksteady Studios,Feral Interactive (Mac)']\n",
    "\n",
    "#Los juegos obtenidos de esta consulta son repetidos y se procede a eliminarlos\n",
    "df_g = df_g.drop([13894, 74, 30961])\n",
    "filas_duplicadas = df_g[df_g.duplicated(subset=\"id\", keep=False)]\n",
    "filas_duplicadas"
   ]
  },
  {
   "cell_type": "code",
   "execution_count": 8,
   "metadata": {},
   "outputs": [
    {
     "name": "stderr",
     "output_type": "stream",
     "text": [
      "C:\\Users\\Admin\\AppData\\Local\\Temp\\ipykernel_6876\\2628451955.py:6: FutureWarning: A value is trying to be set on a copy of a DataFrame or Series through chained assignment using an inplace method.\n",
      "The behavior will change in pandas 3.0. This inplace method will never work because the intermediate object on which we are setting values always behaves as a copy.\n",
      "\n",
      "For example, when doing 'df[col].method(value, inplace=True)', try using 'df.method({col: value}, inplace=True)' or df[col] = df[col].method(value) instead, to perform the operation inplace on the original object.\n",
      "\n",
      "\n",
      "  df_g['title'].fillna(df_g['app_name'], inplace=True)\n"
     ]
    },
    {
     "data": {
      "text/plain": [
       "1"
      ]
     },
     "execution_count": 8,
     "metadata": {},
     "output_type": "execute_result"
    }
   ],
   "source": [
    "# Preparar DF\n",
    "#Quitar columnas innecesarias del DF\n",
    "#Completando campos vacios en columnas necesarias\n",
    "\n",
    "#Completar campo title con valor nulo con el valor de columna app_name\n",
    "df_g['title'].fillna(df_g['app_name'], inplace=True)\n",
    "df_g['title'].isna().sum()\n"
   ]
  },
  {
   "cell_type": "code",
   "execution_count": 9,
   "metadata": {},
   "outputs": [
    {
     "data": {
      "text/plain": [
       "0"
      ]
     },
     "execution_count": 9,
     "metadata": {},
     "output_type": "execute_result"
    }
   ],
   "source": [
    "#El campo title y appname era nulo, quedo 1 fila con title nulo y lo completamos con 'Sin Datos'\n",
    "df_g['title'].fillna('Sin Datos', inplace=True)\n",
    "df_g['title'].isna().sum()"
   ]
  },
  {
   "cell_type": "code",
   "execution_count": 10,
   "metadata": {},
   "outputs": [
    {
     "name": "stderr",
     "output_type": "stream",
     "text": [
      "C:\\Users\\Admin\\AppData\\Local\\Temp\\ipykernel_6876\\3926122647.py:5: FutureWarning: A value is trying to be set on a copy of a DataFrame or Series through chained assignment using an inplace method.\n",
      "The behavior will change in pandas 3.0. This inplace method will never work because the intermediate object on which we are setting values always behaves as a copy.\n",
      "\n",
      "For example, when doing 'df[col].method(value, inplace=True)', try using 'df.method({col: value}, inplace=True)' or df[col] = df[col].method(value) instead, to perform the operation inplace on the original object.\n",
      "\n",
      "\n",
      "  df_g['developer'].fillna(df_g['publisher'][df_g['publisher'].isin(df_g['developer'])], inplace=True)\n"
     ]
    },
    {
     "data": {
      "text/plain": [
       "3253"
      ]
     },
     "execution_count": 10,
     "metadata": {},
     "output_type": "execute_result"
    }
   ],
   "source": [
    "#Completando columna Developer\n",
    "#Obtenemos los valores de la columna Publisher (solo si no se repiten los valores)\n",
    "df_g['developer'] = df_g['developer'].str.lower()\n",
    "df_g['publisher'] = df_g['publisher'].str.lower()\n",
    "df_g['developer'].fillna(df_g['publisher'][df_g['publisher'].isin(df_g['developer'])], inplace=True)\n",
    "df_g['developer'].isna().sum()"
   ]
  },
  {
   "cell_type": "code",
   "execution_count": 11,
   "metadata": {},
   "outputs": [
    {
     "data": {
      "text/plain": [
       "0"
      ]
     },
     "execution_count": 11,
     "metadata": {},
     "output_type": "execute_result"
    }
   ],
   "source": [
    "#Completamos los 3253 campos restantes con 'Sin Datos'\n",
    "df_g['developer'].fillna('Sin Datos', inplace=True)\n",
    "df_g['developer'].isna().sum()"
   ]
  },
  {
   "cell_type": "code",
   "execution_count": 12,
   "metadata": {},
   "outputs": [
    {
     "data": {
      "text/plain": [
       "Index(['genres', 'title', 'release_date', 'price', 'id', 'developer'], dtype='object')"
      ]
     },
     "execution_count": 12,
     "metadata": {},
     "output_type": "execute_result"
    }
   ],
   "source": [
    "#Eliminamos las columnas que no usaremos en nuestra API\n",
    "df_g = df_g.drop(['tags', 'specs', 'url', 'reviews_url', 'early_access', 'publisher', 'app_name'], axis=1)\n",
    "df_g.columns"
   ]
  },
  {
   "cell_type": "code",
   "execution_count": 13,
   "metadata": {},
   "outputs": [
    {
     "data": {
      "text/plain": [
       "array(['lost summoner kitty', 'ironbound', 'real pool 3d - poolians', ...,\n",
       "       'russian roads', 'exit 2 - directions', 'maze run vr'],\n",
       "      dtype=object)"
      ]
     },
     "execution_count": 13,
     "metadata": {},
     "output_type": "execute_result"
    }
   ],
   "source": [
    "#Transformación de columnas\n",
    "#Conservamos los titulos unicos (eliminar repeticiones por variaciones de mayus/minusculas)\n",
    "df_g['title'] = df_g['title'].str.lower()\n",
    "df_g['title'].unique()"
   ]
  },
  {
   "cell_type": "code",
   "execution_count": 14,
   "metadata": {},
   "outputs": [
    {
     "data": {
      "text/plain": [
       "array(['2018', '2017', 'Sin_dato_fecha', '1997', '1998', '2016', '2006',\n",
       "       '2005', '2003', '2007', '2002', '2000', '1995', '1996', '1994',\n",
       "       '2001', '1993', '2004', '1999', '2008', '2009', '1992', '1989',\n",
       "       '2010', '2011', '2013', '2012', '2014', '1983', '1984', '2015',\n",
       "       '1990', '1988', '1991', '1985', '1982', '1987', '1981', '1986',\n",
       "       '2021', '2019', '1975', '1970', '1980'], dtype=object)"
      ]
     },
     "execution_count": 14,
     "metadata": {},
     "output_type": "execute_result"
    }
   ],
   "source": [
    "#Para nuestro End Point necesitamos el valor Año de la columna 'Release_Date'\n",
    "#Para eso creamos una nueva columna 'release_year' \n",
    "#Definimos una funcion para obtener el año de la columna 'Release_Date' y eliminar dicha columna\n",
    "# Función para obtener año\n",
    "def get_year(fecha):\n",
    "    if pd.notna(fecha):\n",
    "        if re.match(r'^\\d{4}-\\d{2}-\\d{2}$', fecha):\n",
    "            return fecha.split('-')[0]\n",
    "    #Retornar Sin_dato_fecha en caso de no encontrar el año\n",
    "    return 'Sin_dato_fecha'\n",
    "\n",
    "# Crea columna nueva con el año y aplicamos la función\n",
    "df_g['release_year'] = df_g['release_date'].apply(get_year)\n",
    "\n",
    "\n",
    "# elimina la columna 'release_date'\n",
    "df_g = df_g.drop('release_date', axis=1)\n",
    "df_g['release_year'].unique()\n"
   ]
  },
  {
   "cell_type": "code",
   "execution_count": 15,
   "metadata": {},
   "outputs": [
    {
     "data": {
      "text/plain": [
       "dtype('float64')"
      ]
     },
     "execution_count": 15,
     "metadata": {},
     "output_type": "execute_result"
    }
   ],
   "source": [
    "#Trabajando la columna price\n",
    "#Necesitamos valores numericos, debemos reemplazar 'Free to play' por el valor 0\n",
    "#Cambiar el tipo de dato de la columna a numerico \n",
    "def flotante(value):\n",
    "    if pd.isna(value):\n",
    "        return 0.0\n",
    "    try:\n",
    "        float_value = float(value)\n",
    "        return float_value\n",
    "    except:\n",
    "        return 0.0\n",
    "\n",
    "df_g['price'] = df_g['price'].apply(flotante)\n",
    "df_g['price'] = df_g['price'].apply(lambda x: round(x, 2))\n",
    "df_g['price'].dtype"
   ]
  },
  {
   "cell_type": "code",
   "execution_count": 16,
   "metadata": {},
   "outputs": [
    {
     "data": {
      "text/html": [
       "<div>\n",
       "<style scoped>\n",
       "    .dataframe tbody tr th:only-of-type {\n",
       "        vertical-align: middle;\n",
       "    }\n",
       "\n",
       "    .dataframe tbody tr th {\n",
       "        vertical-align: top;\n",
       "    }\n",
       "\n",
       "    .dataframe thead th {\n",
       "        text-align: right;\n",
       "    }\n",
       "</style>\n",
       "<table border=\"1\" class=\"dataframe\">\n",
       "  <thead>\n",
       "    <tr style=\"text-align: right;\">\n",
       "      <th></th>\n",
       "      <th>genres</th>\n",
       "      <th>title</th>\n",
       "      <th>price</th>\n",
       "      <th>id</th>\n",
       "      <th>developer</th>\n",
       "      <th>release_year</th>\n",
       "    </tr>\n",
       "  </thead>\n",
       "  <tbody>\n",
       "    <tr>\n",
       "      <th>0</th>\n",
       "      <td>Action</td>\n",
       "      <td>lost summoner kitty</td>\n",
       "      <td>4.99</td>\n",
       "      <td>761140</td>\n",
       "      <td>kotoshiro</td>\n",
       "      <td>2018</td>\n",
       "    </tr>\n",
       "    <tr>\n",
       "      <th>0</th>\n",
       "      <td>Casual</td>\n",
       "      <td>lost summoner kitty</td>\n",
       "      <td>4.99</td>\n",
       "      <td>761140</td>\n",
       "      <td>kotoshiro</td>\n",
       "      <td>2018</td>\n",
       "    </tr>\n",
       "    <tr>\n",
       "      <th>0</th>\n",
       "      <td>Indie</td>\n",
       "      <td>lost summoner kitty</td>\n",
       "      <td>4.99</td>\n",
       "      <td>761140</td>\n",
       "      <td>kotoshiro</td>\n",
       "      <td>2018</td>\n",
       "    </tr>\n",
       "    <tr>\n",
       "      <th>0</th>\n",
       "      <td>Simulation</td>\n",
       "      <td>lost summoner kitty</td>\n",
       "      <td>4.99</td>\n",
       "      <td>761140</td>\n",
       "      <td>kotoshiro</td>\n",
       "      <td>2018</td>\n",
       "    </tr>\n",
       "    <tr>\n",
       "      <th>0</th>\n",
       "      <td>Strategy</td>\n",
       "      <td>lost summoner kitty</td>\n",
       "      <td>4.99</td>\n",
       "      <td>761140</td>\n",
       "      <td>kotoshiro</td>\n",
       "      <td>2018</td>\n",
       "    </tr>\n",
       "    <tr>\n",
       "      <th>1</th>\n",
       "      <td>Free to Play</td>\n",
       "      <td>ironbound</td>\n",
       "      <td>0.00</td>\n",
       "      <td>643980</td>\n",
       "      <td>secret level srl</td>\n",
       "      <td>2018</td>\n",
       "    </tr>\n",
       "    <tr>\n",
       "      <th>1</th>\n",
       "      <td>Indie</td>\n",
       "      <td>ironbound</td>\n",
       "      <td>0.00</td>\n",
       "      <td>643980</td>\n",
       "      <td>secret level srl</td>\n",
       "      <td>2018</td>\n",
       "    </tr>\n",
       "    <tr>\n",
       "      <th>1</th>\n",
       "      <td>RPG</td>\n",
       "      <td>ironbound</td>\n",
       "      <td>0.00</td>\n",
       "      <td>643980</td>\n",
       "      <td>secret level srl</td>\n",
       "      <td>2018</td>\n",
       "    </tr>\n",
       "    <tr>\n",
       "      <th>1</th>\n",
       "      <td>Strategy</td>\n",
       "      <td>ironbound</td>\n",
       "      <td>0.00</td>\n",
       "      <td>643980</td>\n",
       "      <td>secret level srl</td>\n",
       "      <td>2018</td>\n",
       "    </tr>\n",
       "    <tr>\n",
       "      <th>2</th>\n",
       "      <td>Casual</td>\n",
       "      <td>real pool 3d - poolians</td>\n",
       "      <td>0.00</td>\n",
       "      <td>670290</td>\n",
       "      <td>poolians.com</td>\n",
       "      <td>2017</td>\n",
       "    </tr>\n",
       "  </tbody>\n",
       "</table>\n",
       "</div>"
      ],
      "text/plain": [
       "         genres                    title  price      id         developer  \\\n",
       "0        Action      lost summoner kitty   4.99  761140         kotoshiro   \n",
       "0        Casual      lost summoner kitty   4.99  761140         kotoshiro   \n",
       "0         Indie      lost summoner kitty   4.99  761140         kotoshiro   \n",
       "0    Simulation      lost summoner kitty   4.99  761140         kotoshiro   \n",
       "0      Strategy      lost summoner kitty   4.99  761140         kotoshiro   \n",
       "1  Free to Play                ironbound   0.00  643980  secret level srl   \n",
       "1         Indie                ironbound   0.00  643980  secret level srl   \n",
       "1           RPG                ironbound   0.00  643980  secret level srl   \n",
       "1      Strategy                ironbound   0.00  643980  secret level srl   \n",
       "2        Casual  real pool 3d - poolians   0.00  670290      poolians.com   \n",
       "\n",
       "  release_year  \n",
       "0         2018  \n",
       "0         2018  \n",
       "0         2018  \n",
       "0         2018  \n",
       "0         2018  \n",
       "1         2018  \n",
       "1         2018  \n",
       "1         2018  \n",
       "1         2018  \n",
       "2         2017  "
      ]
     },
     "execution_count": 16,
     "metadata": {},
     "output_type": "execute_result"
    }
   ],
   "source": [
    "#Trabajando la columna 'genres' \n",
    "#Necesitamos los valores unicos de esta columna\n",
    "#Buscamos obtener una columna de cada Género\n",
    "df_g = df_g.explode('genres')\n",
    "df_g = df_g.dropna(subset=['genres'])\n",
    "df_g.head(10)"
   ]
  },
  {
   "cell_type": "code",
   "execution_count": 17,
   "metadata": {},
   "outputs": [],
   "source": [
    "#Renombramos la columna ID\n",
    "#df_g = df_g.rename(columns={'id':'item_id'})\n",
    "#df_g"
   ]
  },
  {
   "cell_type": "code",
   "execution_count": 18,
   "metadata": {},
   "outputs": [],
   "source": [
    "#Guardamos en un nuevo archivo fromato CSV\n",
    "df_g.to_csv(r'C:/Users/Admin/Downloads/Primer Proyecto/DS/steam_games_clean.csv', index=False, encoding='utf-8')"
   ]
  }
 ],
 "metadata": {
  "kernelspec": {
   "display_name": "Python 3",
   "language": "python",
   "name": "python3"
  },
  "language_info": {
   "codemirror_mode": {
    "name": "ipython",
    "version": 3
   },
   "file_extension": ".py",
   "mimetype": "text/x-python",
   "name": "python",
   "nbconvert_exporter": "python",
   "pygments_lexer": "ipython3",
   "version": "3.12.3"
  }
 },
 "nbformat": 4,
 "nbformat_minor": 2
}
